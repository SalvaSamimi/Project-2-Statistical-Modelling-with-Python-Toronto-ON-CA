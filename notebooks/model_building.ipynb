{
 "cells": [
  {
   "attachments": {},
   "cell_type": "markdown",
   "metadata": {},
   "source": [
    "#### Build a regression model."
   ]
  },
  {
   "cell_type": "code",
   "execution_count": 1,
   "metadata": {},
   "outputs": [
    {
     "name": "stdout",
     "output_type": "stream",
     "text": [
      "(653, 10)\n"
     ]
    },
    {
     "data": {
      "text/html": [
       "<div>\n",
       "<style scoped>\n",
       "    .dataframe tbody tr th:only-of-type {\n",
       "        vertical-align: middle;\n",
       "    }\n",
       "\n",
       "    .dataframe tbody tr th {\n",
       "        vertical-align: top;\n",
       "    }\n",
       "\n",
       "    .dataframe thead th {\n",
       "        text-align: right;\n",
       "    }\n",
       "</style>\n",
       "<table border=\"1\" class=\"dataframe\">\n",
       "  <thead>\n",
       "    <tr style=\"text-align: right;\">\n",
       "      <th></th>\n",
       "      <th>free_bikes</th>\n",
       "      <th>empty_slots</th>\n",
       "      <th>entertainment</th>\n",
       "      <th>education</th>\n",
       "      <th>dining</th>\n",
       "      <th>park</th>\n",
       "      <th>shopping</th>\n",
       "      <th>metro_station</th>\n",
       "      <th>library</th>\n",
       "      <th>financial</th>\n",
       "    </tr>\n",
       "  </thead>\n",
       "  <tbody>\n",
       "    <tr>\n",
       "      <th>0</th>\n",
       "      <td>17</td>\n",
       "      <td>1</td>\n",
       "      <td>7</td>\n",
       "      <td>6</td>\n",
       "      <td>48</td>\n",
       "      <td>8</td>\n",
       "      <td>36</td>\n",
       "      <td>0</td>\n",
       "      <td>1</td>\n",
       "      <td>2</td>\n",
       "    </tr>\n",
       "    <tr>\n",
       "      <th>1</th>\n",
       "      <td>14</td>\n",
       "      <td>1</td>\n",
       "      <td>2</td>\n",
       "      <td>8</td>\n",
       "      <td>46</td>\n",
       "      <td>4</td>\n",
       "      <td>55</td>\n",
       "      <td>0</td>\n",
       "      <td>2</td>\n",
       "      <td>5</td>\n",
       "    </tr>\n",
       "    <tr>\n",
       "      <th>2</th>\n",
       "      <td>3</td>\n",
       "      <td>20</td>\n",
       "      <td>7</td>\n",
       "      <td>5</td>\n",
       "      <td>42</td>\n",
       "      <td>8</td>\n",
       "      <td>37</td>\n",
       "      <td>0</td>\n",
       "      <td>1</td>\n",
       "      <td>1</td>\n",
       "    </tr>\n",
       "    <tr>\n",
       "      <th>3</th>\n",
       "      <td>11</td>\n",
       "      <td>14</td>\n",
       "      <td>72</td>\n",
       "      <td>88</td>\n",
       "      <td>434</td>\n",
       "      <td>29</td>\n",
       "      <td>392</td>\n",
       "      <td>9</td>\n",
       "      <td>11</td>\n",
       "      <td>128</td>\n",
       "    </tr>\n",
       "    <tr>\n",
       "      <th>4</th>\n",
       "      <td>7</td>\n",
       "      <td>8</td>\n",
       "      <td>34</td>\n",
       "      <td>58</td>\n",
       "      <td>369</td>\n",
       "      <td>22</td>\n",
       "      <td>331</td>\n",
       "      <td>3</td>\n",
       "      <td>12</td>\n",
       "      <td>62</td>\n",
       "    </tr>\n",
       "  </tbody>\n",
       "</table>\n",
       "</div>"
      ],
      "text/plain": [
       "   free_bikes  empty_slots  entertainment  education  dining  park  shopping  \\\n",
       "0          17            1              7          6      48     8        36   \n",
       "1          14            1              2          8      46     4        55   \n",
       "2           3           20              7          5      42     8        37   \n",
       "3          11           14             72         88     434    29       392   \n",
       "4           7            8             34         58     369    22       331   \n",
       "\n",
       "   metro_station  library  financial  \n",
       "0              0        1          2  \n",
       "1              0        2          5  \n",
       "2              0        1          1  \n",
       "3              9       11        128  \n",
       "4              3       12         62  "
      ]
     },
     "execution_count": 1,
     "metadata": {},
     "output_type": "execute_result"
    }
   ],
   "source": [
    "# imports\n",
    "import pandas as pd\n",
    "import numpy as np\n",
    "import statsmodels.api as sm\n",
    "\n",
    "# Save joined CityBikes and Yelp info to CSV file\n",
    "citybikes_yelp = pd.read_csv(\"data/citybikes_yelp.csv\" , encoding = \"unicode_escape\")\n",
    "df=citybikes_yelp.iloc[:,4:]\n",
    "print(df.shape)\n",
    "df.head()"
   ]
  },
  {
   "attachments": {},
   "cell_type": "markdown",
   "metadata": {},
   "source": [
    "### Forward Selection"
   ]
  },
  {
   "cell_type": "code",
   "execution_count": 2,
   "metadata": {},
   "outputs": [],
   "source": [
    "# Model Building - Forward selection \n",
    "\n",
    "y = df['free_bikes']\n",
    "indep = df.drop('free_bikes', axis=1)\n",
    "\n",
    "X = [sm.add_constant(indep[column]) for column in indep.columns] \n"
   ]
  },
  {
   "cell_type": "code",
   "execution_count": 3,
   "metadata": {},
   "outputs": [],
   "source": [
    "Models = [sm.OLS(y,x) for x in X] #list of models\n",
    "Results = [model.fit() for model in Models] #list of results\n",
    "Adj_Rsquared = [results.rsquared_adj for results in Results] #list of rsquared\n",
    "Pval = [results.pvalues for results in Results] #list of p-values\n",
    "Params = [results.params for results in Results] #list of params"
   ]
  },
  {
   "cell_type": "code",
   "execution_count": 4,
   "metadata": {},
   "outputs": [
    {
     "name": "stdout",
     "output_type": "stream",
     "text": [
      "adj_R2: 0.189, P-values: (7.250399732222864e-135, 1.2015051049185205e-31), column: empty_slots\n",
      "adj_R2: 0.010, P-values: (8.594315508941139e-102, 0.006678565701212038), column: entertainment\n",
      "adj_R2: -0.001, P-values: (5.4861782990624126e-114, 0.48801896126518796), column: education\n",
      "adj_R2: 0.017, P-values: (7.260108754175347e-97, 0.0004807238279010314), column: dining\n",
      "adj_R2: 0.025, P-values: (4.029670200870555e-84, 3.4022806756829385e-05), column: park\n",
      "adj_R2: 0.005, P-values: (7.839039113386955e-93, 0.0341074329761797), column: shopping\n",
      "adj_R2: 0.033, P-values: (6.901541680640921e-129, 1.892736312750246e-06), column: metro_station\n",
      "adj_R2: -0.001, P-values: (2.7586060070045442e-121, 0.6615359612327425), column: library\n",
      "adj_R2: 0.025, P-values: (2.6579628823317417e-111, 3.1023978532430104e-05), column: financial\n"
     ]
    }
   ],
   "source": [
    "for i in range(len(Adj_Rsquared)):\n",
    "     print(f'adj_R2: {Adj_Rsquared[i]:.3f}, P-values: {*Pval[i],}, column: {indep.columns[i]}')"
   ]
  },
  {
   "attachments": {},
   "cell_type": "markdown",
   "metadata": {},
   "source": [
    "In first step, empty_slots was selected as the first independent variable for modeling because of the highest adjacent R2."
   ]
  },
  {
   "cell_type": "code",
   "execution_count": 5,
   "metadata": {},
   "outputs": [
    {
     "name": "stdout",
     "output_type": "stream",
     "text": [
      "adj_R2: 0.193, P-values: (6.046850979800018e-109, 6.074242925571167e-31, 0.037242514909466964), column: entertainment\n",
      "adj_R2: 0.189, P-values: (1.1975266571379305e-119, 1.0159747949463244e-31, 0.3116165842820575), column: education\n",
      "adj_R2: 0.196, P-values: (5.121388087864797e-105, 1.678875426152583e-30, 0.007516785925608776), column: dining\n",
      "adj_R2: 0.203, P-values: (9.652850406191193e-99, 1.3094644133296531e-30, 0.00038154110925426953), column: park\n",
      "adj_R2: 0.190, P-values: (2.9804360179540024e-105, 4.84018735563952e-31, 0.16514800092236473), column: shopping\n",
      "adj_R2: 0.211, P-values: (5.728566792848702e-119, 7.689757026052558e-31, 1.1826937031285641e-05), column: metro_station\n",
      "adj_R2: 0.188, P-values: (1.812390221713694e-122, 1.3124181434024066e-31, 0.6340169849371591), column: library\n",
      "adj_R2: 0.204, P-values: (1.2782544683087102e-111, 1.1730625142812287e-30, 0.00030918558351811936), column: financial\n"
     ]
    }
   ],
   "source": [
    "remaining_var = df.drop(['free_bikes', 'empty_slots'], axis=1)\n",
    "remaining_var.head()\n",
    "\n",
    "included_df = df[['empty_slots']]\n",
    "included_df\n",
    "\n",
    "X = [sm.add_constant(pd.merge(included_df,remaining_var[column], right_index = True, left_index = True)) for column in remaining_var.columns] \n",
    "\n",
    "Models = [sm.OLS(y,x) for x in X] #list of models\n",
    "Results = [model.fit() for model in Models] #list of results\n",
    "Adj_Rsquared = [results.rsquared_adj for results in Results] #list of rsquared\n",
    "Pval = [results.pvalues for results in Results] #list of list of p-values\n",
    "\n",
    "for i in range(len(Adj_Rsquared)):\n",
    "     print(f'adj_R2: {Adj_Rsquared[i]:.3f}, P-values: {*Pval[i],}, column: {remaining_var.columns[i]}')"
   ]
  },
  {
   "attachments": {},
   "cell_type": "markdown",
   "metadata": {},
   "source": [
    "In second step, metro_station was selected as the second independent variable for modeling because of the highest adjacent R2."
   ]
  },
  {
   "cell_type": "code",
   "execution_count": 6,
   "metadata": {},
   "outputs": [
    {
     "name": "stdout",
     "output_type": "stream",
     "text": [
      "adj_R2: 0.193, P-values: (6.046850979800018e-109, 6.074242925571167e-31, 0.037242514909466964), column: entertainment\n",
      "adj_R2: 0.189, P-values: (1.1975266571379305e-119, 1.0159747949463244e-31, 0.3116165842820575), column: education\n",
      "adj_R2: 0.196, P-values: (5.121388087864797e-105, 1.678875426152583e-30, 0.007516785925608776), column: dining\n",
      "adj_R2: 0.203, P-values: (9.652850406191193e-99, 1.3094644133296531e-30, 0.00038154110925426953), column: park\n",
      "adj_R2: 0.190, P-values: (2.9804360179540024e-105, 4.84018735563952e-31, 0.16514800092236473), column: shopping\n",
      "adj_R2: 0.188, P-values: (1.812390221713694e-122, 1.3124181434024066e-31, 0.6340169849371591), column: library\n",
      "adj_R2: 0.204, P-values: (1.2782544683087102e-111, 1.1730625142812287e-30, 0.00030918558351811936), column: financial\n"
     ]
    }
   ],
   "source": [
    "remaining_var = df.drop(['free_bikes', 'empty_slots','metro_station'], axis=1)\n",
    "remaining_var.head()\n",
    "\n",
    "included_df = df[['empty_slots']]\n",
    "included_df\n",
    "\n",
    "X = [sm.add_constant(pd.merge(included_df,remaining_var[column], right_index = True, left_index = True)) for column in remaining_var.columns] \n",
    "\n",
    "Models = [sm.OLS(y,x) for x in X] #list of models\n",
    "Results = [model.fit() for model in Models] #list of results\n",
    "Adj_Rsquared = [results.rsquared_adj for results in Results] #list of rsquared\n",
    "Pval = [results.pvalues for results in Results] #list of list of p-values\n",
    "\n",
    "for i in range(len(Adj_Rsquared)):\n",
    "     print(f'adj_R2: {Adj_Rsquared[i]:.3f}, P-values: {*Pval[i],}, column: {remaining_var.columns[i]}')"
   ]
  },
  {
   "attachments": {},
   "cell_type": "markdown",
   "metadata": {},
   "source": [
    "Because adjacent R2 increasing have stoped, modeling is stoped here."
   ]
  },
  {
   "attachments": {},
   "cell_type": "markdown",
   "metadata": {},
   "source": [
    "### Backward Selection"
   ]
  },
  {
   "cell_type": "code",
   "execution_count": 7,
   "metadata": {},
   "outputs": [
    {
     "name": "stdout",
     "output_type": "stream",
     "text": [
      "                            OLS Regression Results                            \n",
      "==============================================================================\n",
      "Dep. Variable:             free_bikes   R-squared:                       0.256\n",
      "Model:                            OLS   Adj. R-squared:                  0.246\n",
      "Method:                 Least Squares   F-statistic:                     24.59\n",
      "Date:                Mon, 27 Feb 2023   Prob (F-statistic):           2.30e-36\n",
      "Time:                        09:58:42   Log-Likelihood:                -1985.7\n",
      "No. Observations:                 653   AIC:                             3991.\n",
      "Df Residuals:                     643   BIC:                             4036.\n",
      "Df Model:                           9                                         \n",
      "Covariance Type:            nonrobust                                         \n",
      "=================================================================================\n",
      "                    coef    std err          t      P>|t|      [0.025      0.975]\n",
      "---------------------------------------------------------------------------------\n",
      "const            12.8124      0.498     25.731      0.000      11.835      13.790\n",
      "empty_slots      -0.4128      0.034    -12.054      0.000      -0.480      -0.346\n",
      "entertainment     0.0418      0.033      1.264      0.207      -0.023       0.107\n",
      "education        -0.0611      0.026     -2.381      0.018      -0.112      -0.011\n",
      "dining           -0.0019      0.005     -0.376      0.707      -0.012       0.008\n",
      "park              0.0699      0.052      1.350      0.178      -0.032       0.172\n",
      "shopping         -0.0095      0.007     -1.428      0.154      -0.023       0.004\n",
      "metro_station     0.0629      0.288      0.218      0.827      -0.503       0.629\n",
      "library           0.0763      0.101      0.752      0.452      -0.123       0.275\n",
      "financial         0.0433      0.027      1.619      0.106      -0.009       0.096\n",
      "==============================================================================\n",
      "Omnibus:                      160.909   Durbin-Watson:                   1.861\n",
      "Prob(Omnibus):                  0.000   Jarque-Bera (JB):              442.143\n",
      "Skew:                           1.220   Prob(JB):                     9.77e-97\n",
      "Kurtosis:                       6.209   Cond. No.                         786.\n",
      "==============================================================================\n",
      "\n",
      "Notes:\n",
      "[1] Standard Errors assume that the covariance matrix of the errors is correctly specified.\n"
     ]
    }
   ],
   "source": [
    "# Model Building - Backward selection \n",
    "#run full model\n",
    "y = df['free_bikes']\n",
    "X = df.drop('free_bikes', axis=1)\n",
    "X = sm.add_constant(X) #adds a column of 1's so the model will contain an intercept\n",
    "\n",
    "model = sm.OLS(y, X)\n",
    "results = model.fit()\n",
    "print(results.summary())"
   ]
  },
  {
   "attachments": {},
   "cell_type": "markdown",
   "metadata": {},
   "source": [
    "In first step, independent variables with p-value higher than 0.05 were omitted."
   ]
  },
  {
   "cell_type": "markdown",
   "metadata": {},
   "source": [
    "Provide model output and an interpretation of the results. "
   ]
  },
  {
   "cell_type": "code",
   "execution_count": 9,
   "metadata": {},
   "outputs": [
    {
     "name": "stdout",
     "output_type": "stream",
     "text": [
      "                            OLS Regression Results                            \n",
      "==============================================================================\n",
      "Dep. Variable:             free_bikes   R-squared:                       0.191\n",
      "Model:                            OLS   Adj. R-squared:                  0.189\n",
      "Method:                 Least Squares   F-statistic:                     76.83\n",
      "Date:                Mon, 27 Feb 2023   Prob (F-statistic):           1.12e-30\n",
      "Time:                        10:01:16   Log-Likelihood:                -2013.0\n",
      "No. Observations:                 653   AIC:                             4032.\n",
      "Df Residuals:                     650   BIC:                             4045.\n",
      "Df Model:                           2                                         \n",
      "Covariance Type:            nonrobust                                         \n",
      "===============================================================================\n",
      "                  coef    std err          t      P>|t|      [0.025      0.975]\n",
      "-------------------------------------------------------------------------------\n",
      "const          13.1692      0.453     29.065      0.000      12.279      14.059\n",
      "empty_slots    -0.4348      0.035    -12.372      0.000      -0.504      -0.366\n",
      "education      -0.0060      0.006     -1.013      0.312      -0.018       0.006\n",
      "==============================================================================\n",
      "Omnibus:                      211.871   Durbin-Watson:                   1.846\n",
      "Prob(Omnibus):                  0.000   Jarque-Bera (JB):              743.179\n",
      "Skew:                           1.511   Prob(JB):                    4.18e-162\n",
      "Kurtosis:                       7.264   Cond. No.                         105.\n",
      "==============================================================================\n",
      "\n",
      "Notes:\n",
      "[1] Standard Errors assume that the covariance matrix of the errors is correctly specified.\n"
     ]
    }
   ],
   "source": [
    "y = df['free_bikes']\n",
    "X = df.drop(['free_bikes','entertainment','dining','park','shopping','metro_station','library','financial'], axis=1)\n",
    "X = sm.add_constant(X) #adds a column of 1's so the model will contain an intercept\n",
    "\n",
    "model = sm.OLS(y, X)\n",
    "results = model.fit() #fit the model (this is where OLS is actually being run)\n",
    "print(results.summary())"
   ]
  },
  {
   "attachments": {},
   "cell_type": "markdown",
   "metadata": {},
   "source": [
    "As adjacent R2 increasing stopped, we stop modeling. As we observed all p-values are less than 0.05. It means empty_slots, education, and financial are effective on the target."
   ]
  },
  {
   "cell_type": "markdown",
   "metadata": {},
   "source": [
    "# Stretch"
   ]
  },
  {
   "attachments": {},
   "cell_type": "markdown",
   "metadata": {},
   "source": [
    "#### How can you turn the regression model into a classification model?\n",
    "\n",
    "For classification modeling, the target should be a categorical variable. so we can change free_bikes to three groups: \n",
    "\n",
    "1- Low:    If     free_bikes   <= 0.35*capacity   \n",
    "2- Medium: If     0.35*capacity < free_bikes   <= 0.70  capacity     \n",
    "3- High:   If     0.70*capacity < free_bikes  \n",
    "\n",
    "When capacity = free_bikes + empty_slots"
   ]
  },
  {
   "cell_type": "code",
   "execution_count": null,
   "metadata": {},
   "outputs": [],
   "source": []
  }
 ],
 "metadata": {
  "kernelspec": {
   "display_name": "base",
   "language": "python",
   "name": "python3"
  },
  "language_info": {
   "codemirror_mode": {
    "name": "ipython",
    "version": 3
   },
   "file_extension": ".py",
   "mimetype": "text/x-python",
   "name": "python",
   "nbconvert_exporter": "python",
   "pygments_lexer": "ipython3",
   "version": "3.9.13"
  },
  "vscode": {
   "interpreter": {
    "hash": "57bc2b6ce032b5f0e93daa91901b7ea38a856826ef43aa9e95b6d3999f5310df"
   }
  }
 },
 "nbformat": 4,
 "nbformat_minor": 4
}
